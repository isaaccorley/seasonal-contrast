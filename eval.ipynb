{
 "cells": [
  {
   "cell_type": "code",
   "execution_count": 1,
   "metadata": {},
   "outputs": [
    {
     "name": "stderr",
     "output_type": "stream",
     "text": [
      "/home/ec2-user/miniconda3/envs/torchenv/lib/python3.8/site-packages/tqdm/auto.py:21: TqdmWarning: IProgress not found. Please update jupyter and ipywidgets. See https://ipywidgets.readthedocs.io/en/stable/user_install.html\n",
      "  from .autonotebook import tqdm as notebook_tqdm\n",
      "/home/ec2-user/miniconda3/envs/torchenv/lib/python3.8/site-packages/pl_bolts/utils/warnings.py:30: UserWarning: You want to use `wandb` which is not installed yet, install it with `pip install wandb`.\n",
      "  stdout_func(\n",
      "/home/ec2-user/miniconda3/envs/torchenv/lib/python3.8/site-packages/pl_bolts/utils/warnings.py:30: UserWarning: You want to use `matplotlib` which is not installed yet, install it with `pip install matplotlib`.\n",
      "  stdout_func(\n",
      "/home/ec2-user/miniconda3/envs/torchenv/lib/python3.8/site-packages/pl_bolts/utils/warnings.py:30: UserWarning: You want to use `gym` which is not installed yet, install it with `pip install gym`.\n",
      "  stdout_func(\n"
     ]
    }
   ],
   "source": [
    "from datasets.eurosat_datamodule import EurosatDataModule\n",
    "from models.moco2_module import MocoV2\n",
    "import torchvision.transforms as T\n",
    "from torchvision.models import resnet18\n",
    "import torch\n",
    "import pandas as pd\n",
    "from copy import deepcopy\n",
    "import torch.nn as nn\n",
    "from tqdm import tqdm\n",
    "from sklearn.neighbors import KNeighborsClassifier\n",
    "from sklearn.metrics import accuracy_score, f1_score, precision_score, recall_score\n",
    "from pprint import pprint\n",
    "\n",
    "IMAGENET_MEAN = torch.tensor([0.485, 0.456, 0.406])\n",
    "IMAGENET_STD = torch.tensor([0.229, 0.224, 0.225])\n",
    "\n",
    "backbone_imagenet = resnet18(pretrained=True)\n",
    "backbone_imagenet = nn.Sequential(*list(backbone_imagenet.children())[:-1], nn.Flatten())\n",
    "backbone_imagenet = backbone_imagenet.to(\"cuda\")\n",
    "backbone_imagenet = backbone_imagenet.eval()\n",
    "\n",
    "model = MocoV2.load_from_checkpoint(\"checkpoints/seco_resnet18_1m.ckpt\")\n",
    "backbone_seco = deepcopy(model.encoder_q)\n",
    "backbone_seco = backbone_seco.to(\"cuda\")\n",
    "backbone_seco = backbone_seco.eval()\n",
    "\n",
    "resize = nn.Identity() #T.Resize((224, 224))\n",
    "transforms_imagenet = T.Compose([T.ToTensor(), resize, T.Normalize(mean=IMAGENET_MEAN, std=IMAGENET_STD)])\n",
    "transforms_seco = T.Compose([T.ToTensor(), resize])\n"
   ]
  },
  {
   "cell_type": "code",
   "execution_count": 2,
   "metadata": {},
   "outputs": [],
   "source": [
    "def extract_features(backbone, transforms):\n",
    "    dm = EurosatDataModule(\"data/eurosat-rgb\", transforms)\n",
    "    dm.setup()\n",
    "    labels, features = [], []\n",
    "    dataloader = dm.train_dataloader()\n",
    "    for batch in tqdm(dataloader, total=len(dataloader)):\n",
    "        labels.append(batch[1])\n",
    "        with torch.no_grad():\n",
    "            features.append(backbone(batch[0].to(\"cuda\")).detach().cpu())\n",
    "\n",
    "    train_y = torch.cat(labels, dim=0).numpy()\n",
    "    train_x = torch.cat(features, dim=0).numpy()\n",
    "\n",
    "    labels, features = [], []\n",
    "    dataloader = dm.val_dataloader()\n",
    "    for batch in tqdm(dataloader, total=len(dataloader)):\n",
    "        labels.append(batch[1])\n",
    "        with torch.no_grad():\n",
    "            features.append(backbone(batch[0].to(\"cuda\")).detach().cpu())\n",
    "\n",
    "    test_y = torch.cat(labels, dim=0).numpy()\n",
    "    test_x = torch.cat(features, dim=0).numpy()\n",
    "    return train_x, train_y, test_x, test_y"
   ]
  },
  {
   "cell_type": "code",
   "execution_count": 3,
   "metadata": {},
   "outputs": [
    {
     "name": "stderr",
     "output_type": "stream",
     "text": [
      "100%|██████████| 506/506 [00:07<00:00, 64.70it/s]\n",
      "100%|██████████| 169/169 [00:02<00:00, 60.30it/s]\n",
      "100%|██████████| 506/506 [00:07<00:00, 66.32it/s]\n",
      "100%|██████████| 169/169 [00:02<00:00, 60.88it/s]\n"
     ]
    }
   ],
   "source": [
    "x_train_seco, y_train_seco, x_test_seco, y_test_seco = extract_features(backbone_seco, transforms_seco)\n",
    "x_train_imagenet, y_train_imagenet, x_test_imagenet, y_test_imagenet = extract_features(backbone_imagenet, transforms_imagenet)"
   ]
  },
  {
   "cell_type": "code",
   "execution_count": 4,
   "metadata": {},
   "outputs": [
    {
     "name": "stderr",
     "output_type": "stream",
     "text": [
      "100%|██████████| 4/4 [00:06<00:00,  1.55s/it]\n"
     ]
    }
   ],
   "source": [
    "results = {}\n",
    "for k in tqdm([3, 5, 10, 20]):\n",
    "    model = KNeighborsClassifier(n_neighbors=k, n_jobs=4)\n",
    "    model.fit(x_train_seco, y_train_seco)\n",
    "    y_pred_seco = model.predict(x_test_seco)\n",
    "    metrics = {\n",
    "        \"f1_weighted\": f1_score(y_test_seco, y_pred_seco, average=\"weighted\"),\n",
    "        \"f1_macro\": f1_score(y_test_seco, y_pred_seco, average=\"macro\"),\n",
    "        \"f1_micro\": f1_score(y_test_seco, y_pred_seco, average=\"micro\"),\n",
    "        \"precision_micro\": precision_score(y_test_seco, y_pred_seco, average=\"micro\"),\n",
    "        \"precision_macro\": precision_score(y_test_seco, y_pred_seco, average=\"macro\"),\n",
    "        \"precision_weighted\": precision_score(y_test_seco, y_pred_seco, average=\"weighted\"),\n",
    "        \"recall_micro\": recall_score(y_test_seco, y_pred_seco, average=\"micro\"),\n",
    "        \"recall_macro\": recall_score(y_test_seco, y_pred_seco, average=\"macro\"),\n",
    "        \"recall_weighted\": recall_score(y_test_seco, y_pred_seco, average=\"weighted\"),\n",
    "        \"accuracy\": accuracy_score(y_test_seco, y_pred_seco),\n",
    "    }\n",
    "    results[f\"seco_{k}\"] = metrics.copy()\n",
    "\n",
    "    model = KNeighborsClassifier(n_neighbors=k, n_jobs=4)\n",
    "    model.fit(x_train_imagenet, y_train_imagenet)\n",
    "    y_pred_imagenet = model.predict(x_test_imagenet)\n",
    "    metrics = {\n",
    "        \"f1_weighted\": f1_score(y_test_imagenet, y_pred_imagenet, average=\"weighted\"),\n",
    "        \"f1_macro\": f1_score(y_test_imagenet, y_pred_imagenet, average=\"macro\"),\n",
    "        \"f1_micro\": f1_score(y_test_imagenet, y_pred_imagenet, average=\"micro\"),\n",
    "        \"precision_micro\": precision_score(y_test_imagenet, y_pred_imagenet, average=\"micro\"),\n",
    "        \"precision_macro\": precision_score(y_test_imagenet, y_pred_imagenet, average=\"macro\"),\n",
    "        \"precision_weighted\": precision_score(y_test_imagenet, y_pred_imagenet, average=\"weighted\"),\n",
    "        \"recall_micro\": recall_score(y_test_imagenet, y_pred_imagenet, average=\"micro\"),\n",
    "        \"recall_macro\": recall_score(y_test_imagenet, y_pred_imagenet, average=\"macro\"),\n",
    "        \"recall_weighted\": recall_score(y_test_imagenet, y_pred_imagenet, average=\"weighted\"),\n",
    "        \"accuracy\": accuracy_score(y_test_imagenet, y_pred_imagenet),\n",
    "    }\n",
    "    results[f\"imagenet_{k}\"] = metrics.copy()"
   ]
  },
  {
   "cell_type": "code",
   "execution_count": 6,
   "metadata": {},
   "outputs": [],
   "source": [
    "df = pd.DataFrame.from_dict(results).transpose()\n",
    "df[\"k\"] = [int(model_name.split(\"_\")[-1]) for model_name in df.index]\n",
    "df[\"weights\"] = [model_name.split(\"_\")[0] for model_name in df.index]\n",
    "df.to_csv(\"knn_64_results.csv\")"
   ]
  },
  {
   "cell_type": "code",
   "execution_count": null,
   "metadata": {},
   "outputs": [],
   "source": []
  }
 ],
 "metadata": {
  "kernelspec": {
   "display_name": "torchenv",
   "language": "python",
   "name": "python3"
  },
  "language_info": {
   "codemirror_mode": {
    "name": "ipython",
    "version": 3
   },
   "file_extension": ".py",
   "mimetype": "text/x-python",
   "name": "python",
   "nbconvert_exporter": "python",
   "pygments_lexer": "ipython3",
   "version": "3.8.16"
  },
  "orig_nbformat": 4
 },
 "nbformat": 4,
 "nbformat_minor": 2
}
